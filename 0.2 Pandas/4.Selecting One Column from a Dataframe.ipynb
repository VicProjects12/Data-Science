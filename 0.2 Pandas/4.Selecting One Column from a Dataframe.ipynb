{
 "cells": [
  {
   "cell_type": "code",
   "execution_count": 2,
   "id": "399f1c54-cbcd-40e4-974a-41f52581b80a",
   "metadata": {},
   "outputs": [],
   "source": [
    "import pandas as pd"
   ]
  },
  {
   "cell_type": "code",
   "execution_count": 4,
   "id": "e55534db-effd-40c6-ad3b-cf72d5f9a893",
   "metadata": {},
   "outputs": [
    {
     "data": {
      "text/html": [
       "<div>\n",
       "<style scoped>\n",
       "    .dataframe tbody tr th:only-of-type {\n",
       "        vertical-align: middle;\n",
       "    }\n",
       "\n",
       "    .dataframe tbody tr th {\n",
       "        vertical-align: top;\n",
       "    }\n",
       "\n",
       "    .dataframe thead th {\n",
       "        text-align: right;\n",
       "    }\n",
       "</style>\n",
       "<table border=\"1\" class=\"dataframe\">\n",
       "  <thead>\n",
       "    <tr style=\"text-align: right;\">\n",
       "      <th></th>\n",
       "      <th>gender</th>\n",
       "      <th>race/ethnicity</th>\n",
       "      <th>parental level of education</th>\n",
       "      <th>lunch</th>\n",
       "      <th>test preparation course</th>\n",
       "      <th>math score</th>\n",
       "      <th>reading score</th>\n",
       "      <th>writing score</th>\n",
       "    </tr>\n",
       "  </thead>\n",
       "  <tbody>\n",
       "    <tr>\n",
       "      <th>0</th>\n",
       "      <td>female</td>\n",
       "      <td>group B</td>\n",
       "      <td>bachelor's degree</td>\n",
       "      <td>standard</td>\n",
       "      <td>none</td>\n",
       "      <td>72</td>\n",
       "      <td>72</td>\n",
       "      <td>74</td>\n",
       "    </tr>\n",
       "    <tr>\n",
       "      <th>1</th>\n",
       "      <td>female</td>\n",
       "      <td>group C</td>\n",
       "      <td>some college</td>\n",
       "      <td>standard</td>\n",
       "      <td>completed</td>\n",
       "      <td>69</td>\n",
       "      <td>90</td>\n",
       "      <td>88</td>\n",
       "    </tr>\n",
       "    <tr>\n",
       "      <th>2</th>\n",
       "      <td>female</td>\n",
       "      <td>group B</td>\n",
       "      <td>master's degree</td>\n",
       "      <td>standard</td>\n",
       "      <td>none</td>\n",
       "      <td>90</td>\n",
       "      <td>95</td>\n",
       "      <td>93</td>\n",
       "    </tr>\n",
       "    <tr>\n",
       "      <th>3</th>\n",
       "      <td>male</td>\n",
       "      <td>group A</td>\n",
       "      <td>associate's degree</td>\n",
       "      <td>free/reduced</td>\n",
       "      <td>none</td>\n",
       "      <td>47</td>\n",
       "      <td>57</td>\n",
       "      <td>44</td>\n",
       "    </tr>\n",
       "    <tr>\n",
       "      <th>4</th>\n",
       "      <td>male</td>\n",
       "      <td>group C</td>\n",
       "      <td>some college</td>\n",
       "      <td>standard</td>\n",
       "      <td>none</td>\n",
       "      <td>76</td>\n",
       "      <td>78</td>\n",
       "      <td>75</td>\n",
       "    </tr>\n",
       "  </tbody>\n",
       "</table>\n",
       "</div>"
      ],
      "text/plain": [
       "   gender race/ethnicity parental level of education         lunch  \\\n",
       "0  female        group B           bachelor's degree      standard   \n",
       "1  female        group C                some college      standard   \n",
       "2  female        group B             master's degree      standard   \n",
       "3    male        group A          associate's degree  free/reduced   \n",
       "4    male        group C                some college      standard   \n",
       "\n",
       "  test preparation course  math score  reading score  writing score  \n",
       "0                    none          72             72             74  \n",
       "1               completed          69             90             88  \n",
       "2                    none          90             95             93  \n",
       "3                    none          47             57             44  \n",
       "4                    none          76             78             75  "
      ]
     },
     "execution_count": 4,
     "metadata": {},
     "output_type": "execute_result"
    }
   ],
   "source": [
    "# reading the csv files\n",
    "df_exams = pd.read_csv('/Users/vic/Downloads/StudentsPerformance.csv')\n",
    "df_exams.head()"
   ]
  },
  {
   "cell_type": "markdown",
   "id": "a6502767-9570-4344-9460-0c2518a4d768",
   "metadata": {},
   "source": [
    "# 1 Selecting One Column"
   ]
  },
  {
   "cell_type": "markdown",
   "id": "6e8b7d8b-10c4-4c68-8b83-ef4af6028942",
   "metadata": {},
   "source": [
    "# 1.1 Syntax 1"
   ]
  },
  {
   "cell_type": "code",
   "execution_count": 8,
   "id": "58663347-03b8-49f4-a534-1d86405e035a",
   "metadata": {},
   "outputs": [
    {
     "data": {
      "text/plain": [
       "0      female\n",
       "1      female\n",
       "2      female\n",
       "3        male\n",
       "4        male\n",
       "        ...  \n",
       "995    female\n",
       "996      male\n",
       "997    female\n",
       "998    female\n",
       "999    female\n",
       "Name: gender, Length: 1000, dtype: object"
      ]
     },
     "execution_count": 8,
     "metadata": {},
     "output_type": "execute_result"
    }
   ],
   "source": [
    "# Selecting a column with [] (prefered way to select a column)\n",
    "df_exams['gender']"
   ]
  },
  {
   "cell_type": "code",
   "execution_count": 12,
   "id": "63c0fd3b-e4e7-4636-9c4a-edc57b6b6b3a",
   "metadata": {},
   "outputs": [
    {
     "data": {
      "text/plain": [
       "pandas.core.series.Series"
      ]
     },
     "execution_count": 12,
     "metadata": {},
     "output_type": "execute_result"
    }
   ],
   "source": [
    "# check out the data type of a column\n",
    "type(df_exams['gender'])"
   ]
  },
  {
   "cell_type": "markdown",
   "id": "24773ca4-193f-46a3-904c-c3f15b72acde",
   "metadata": {},
   "source": [
    "#core.series.Series -\n",
    "This signifies that the result is a Pandas Series, a fundamental data structure in the Pandas library used for representing a single column or a sequence of values with associated labels (index).\n",
    "In summary, df_exams['gender'] extracts the 'gender' column from the df_exams DataFrame, and the output of this operation is a Pandas Series object."
   ]
  },
  {
   "cell_type": "code",
   "execution_count": 22,
   "id": "819c2f37-91c8-41e4-98f3-0b8726f31415",
   "metadata": {},
   "outputs": [
    {
     "data": {
      "text/plain": [
       "0    female\n",
       "1    female\n",
       "2    female\n",
       "3      male\n",
       "4      male\n",
       "Name: gender, dtype: object"
      ]
     },
     "execution_count": 22,
     "metadata": {},
     "output_type": "execute_result"
    }
   ],
   "source": [
    "# series: attributes and methods\n",
    "df_exams['gender'].index\n",
    "df_exams['gender'].head()"
   ]
  },
  {
   "cell_type": "markdown",
   "id": "84a076a8-e346-40e6-ad19-81e8521d3fa8",
   "metadata": {},
   "source": [
    "# 1.2 Syntax 2"
   ]
  },
  {
   "cell_type": "code",
   "execution_count": 24,
   "id": "b14aacf8-178d-4ed9-ac71-fbcb6c2395fd",
   "metadata": {},
   "outputs": [
    {
     "data": {
      "text/plain": [
       "0      female\n",
       "1      female\n",
       "2      female\n",
       "3        male\n",
       "4        male\n",
       "        ...  \n",
       "995    female\n",
       "996      male\n",
       "997    female\n",
       "998    female\n",
       "999    female\n",
       "Name: gender, Length: 1000, dtype: object"
      ]
     },
     "execution_count": 24,
     "metadata": {},
     "output_type": "execute_result"
    }
   ],
   "source": [
    "# select a column with .\n",
    "df_exams.gender"
   ]
  },
  {
   "cell_type": "code",
   "execution_count": 26,
   "id": "52cfddaf-c7d7-4379-a886-310e1a7d6816",
   "metadata": {},
   "outputs": [
    {
     "ename": "SyntaxError",
     "evalue": "invalid syntax (3061062658.py, line 2)",
     "output_type": "error",
     "traceback": [
      "\u001b[0;36m  Cell \u001b[0;32mIn[26], line 2\u001b[0;36m\u001b[0m\n\u001b[0;31m    df_exams.math score\u001b[0m\n\u001b[0m                  ^\u001b[0m\n\u001b[0;31mSyntaxError\u001b[0m\u001b[0;31m:\u001b[0m invalid syntax\n"
     ]
    }
   ],
   "source": [
    "# select a column with . (pitfalls)\n",
    "df_exams.math score"
   ]
  },
  {
   "cell_type": "code",
   "execution_count": 30,
   "id": "d880b66d-a2b4-4543-92ac-68e77390ae33",
   "metadata": {},
   "outputs": [
    {
     "data": {
      "text/plain": [
       "0      72\n",
       "1      69\n",
       "2      90\n",
       "3      47\n",
       "4      76\n",
       "       ..\n",
       "995    88\n",
       "996    62\n",
       "997    59\n",
       "998    68\n",
       "999    77\n",
       "Name: math score, Length: 1000, dtype: int64"
      ]
     },
     "execution_count": 30,
     "metadata": {},
     "output_type": "execute_result"
    }
   ],
   "source": [
    "# select the same column using []\n",
    "df_exams['math score']"
   ]
  },
  {
   "cell_type": "markdown",
   "id": "6ba69a17-b96b-41bd-b4b9-1726fbac5047",
   "metadata": {},
   "source": [
    "# 1 Selecting two or more columns"
   ]
  },
  {
   "cell_type": "code",
   "execution_count": 33,
   "id": "0478bab9-fe76-4173-bbd9-dc050fc5f4ba",
   "metadata": {},
   "outputs": [],
   "source": [
    "# select 2 columns using [[]]"
   ]
  },
  {
   "cell_type": "code",
   "execution_count": 35,
   "id": "8cad923e-93f1-4ef7-a8bd-6eba5c632b66",
   "metadata": {},
   "outputs": [],
   "source": [
    "# # check the data type of the selection"
   ]
  },
  {
   "cell_type": "code",
   "execution_count": null,
   "id": "33c2dbfd-62d6-4e55-b9c3-696120555f2f",
   "metadata": {},
   "outputs": [],
   "source": [
    "# select 2 or more coming using [[]]"
   ]
  }
 ],
 "metadata": {
  "kernelspec": {
   "display_name": "Python [conda env:base] *",
   "language": "python",
   "name": "conda-base-py"
  },
  "language_info": {
   "codemirror_mode": {
    "name": "ipython",
    "version": 3
   },
   "file_extension": ".py",
   "mimetype": "text/x-python",
   "name": "python",
   "nbconvert_exporter": "python",
   "pygments_lexer": "ipython3",
   "version": "3.12.7"
  }
 },
 "nbformat": 4,
 "nbformat_minor": 5
}
