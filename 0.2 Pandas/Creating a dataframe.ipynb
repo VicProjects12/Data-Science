{
 "cells": [
  {
   "cell_type": "code",
   "execution_count": 2,
   "id": "03b89784-3bae-4355-aade-1fd46d4bc9b9",
   "metadata": {},
   "outputs": [],
   "source": [
    "import pandas as pd\n",
    "import numpy as np"
   ]
  },
  {
   "cell_type": "markdown",
   "id": "02450a38-de7f-4528-9316-e6225ac289bc",
   "metadata": {},
   "source": [
    "# 1 Creating a dataframe from an array\n",
    "# 1.1 Option 1"
   ]
  },
  {
   "cell_type": "code",
   "execution_count": 9,
   "id": "e8fd289f-fc37-4c10-8893-3085679c75be",
   "metadata": {},
   "outputs": [],
   "source": [
    "# creating an array\n",
    "data = np.array([[1, 4], [2, 5], [3, 6]])"
   ]
  },
  {
   "cell_type": "code",
   "execution_count": 13,
   "id": "a9fc7c77-1145-44e6-bf94-4c607a9d881e",
   "metadata": {},
   "outputs": [],
   "source": [
    "# Creating a dataframe\n",
    "df = pd.DataFrame(data, index=['row1', 'row2', 'row3'],\n",
    "            columns=['col1', 'col2'])"
   ]
  },
  {
   "cell_type": "code",
   "execution_count": 15,
   "id": "5d75ab9a-fdb0-4c27-9637-f216b4cbf760",
   "metadata": {},
   "outputs": [
    {
     "data": {
      "text/html": [
       "<div>\n",
       "<style scoped>\n",
       "    .dataframe tbody tr th:only-of-type {\n",
       "        vertical-align: middle;\n",
       "    }\n",
       "\n",
       "    .dataframe tbody tr th {\n",
       "        vertical-align: top;\n",
       "    }\n",
       "\n",
       "    .dataframe thead th {\n",
       "        text-align: right;\n",
       "    }\n",
       "</style>\n",
       "<table border=\"1\" class=\"dataframe\">\n",
       "  <thead>\n",
       "    <tr style=\"text-align: right;\">\n",
       "      <th></th>\n",
       "      <th>col1</th>\n",
       "      <th>col2</th>\n",
       "    </tr>\n",
       "  </thead>\n",
       "  <tbody>\n",
       "    <tr>\n",
       "      <th>row1</th>\n",
       "      <td>1</td>\n",
       "      <td>4</td>\n",
       "    </tr>\n",
       "    <tr>\n",
       "      <th>row2</th>\n",
       "      <td>2</td>\n",
       "      <td>5</td>\n",
       "    </tr>\n",
       "    <tr>\n",
       "      <th>row3</th>\n",
       "      <td>3</td>\n",
       "      <td>6</td>\n",
       "    </tr>\n",
       "  </tbody>\n",
       "</table>\n",
       "</div>"
      ],
      "text/plain": [
       "      col1  col2\n",
       "row1     1     4\n",
       "row2     2     5\n",
       "row3     3     6"
      ]
     },
     "execution_count": 15,
     "metadata": {},
     "output_type": "execute_result"
    }
   ],
   "source": [
    "# Showing the dataframe\n",
    "df"
   ]
  },
  {
   "cell_type": "markdown",
   "id": "4c29bf3b-5c7c-4a00-be49-1362455a2ef8",
   "metadata": {},
   "source": [
    "# 1.2 Option 2"
   ]
  },
  {
   "cell_type": "code",
   "execution_count": 22,
   "id": "bd44d458-b232-41e6-9ddf-186824a093b9",
   "metadata": {},
   "outputs": [],
   "source": [
    " # creating an array\n",
    "data = ([[1, 4], [2, 5], [3, 6]])"
   ]
  },
  {
   "cell_type": "code",
   "execution_count": 24,
   "id": "0eac2a38-1d1e-4790-8df0-bb4fede86bd2",
   "metadata": {},
   "outputs": [],
   "source": [
    "# Creating a dataframe\n",
    "df = pd.DataFrame(data, index=['row1', 'row2', 'row3'],\n",
    "            columns=['col1', 'col2'])"
   ]
  },
  {
   "cell_type": "code",
   "execution_count": 26,
   "id": "af5322a4-f9fc-4f35-8082-ac6350a88e4d",
   "metadata": {},
   "outputs": [
    {
     "data": {
      "text/html": [
       "<div>\n",
       "<style scoped>\n",
       "    .dataframe tbody tr th:only-of-type {\n",
       "        vertical-align: middle;\n",
       "    }\n",
       "\n",
       "    .dataframe tbody tr th {\n",
       "        vertical-align: top;\n",
       "    }\n",
       "\n",
       "    .dataframe thead th {\n",
       "        text-align: right;\n",
       "    }\n",
       "</style>\n",
       "<table border=\"1\" class=\"dataframe\">\n",
       "  <thead>\n",
       "    <tr style=\"text-align: right;\">\n",
       "      <th></th>\n",
       "      <th>col1</th>\n",
       "      <th>col2</th>\n",
       "    </tr>\n",
       "  </thead>\n",
       "  <tbody>\n",
       "    <tr>\n",
       "      <th>row1</th>\n",
       "      <td>1</td>\n",
       "      <td>4</td>\n",
       "    </tr>\n",
       "    <tr>\n",
       "      <th>row2</th>\n",
       "      <td>2</td>\n",
       "      <td>5</td>\n",
       "    </tr>\n",
       "    <tr>\n",
       "      <th>row3</th>\n",
       "      <td>3</td>\n",
       "      <td>6</td>\n",
       "    </tr>\n",
       "  </tbody>\n",
       "</table>\n",
       "</div>"
      ],
      "text/plain": [
       "      col1  col2\n",
       "row1     1     4\n",
       "row2     2     5\n",
       "row3     3     6"
      ]
     },
     "execution_count": 26,
     "metadata": {},
     "output_type": "execute_result"
    }
   ],
   "source": [
    "# Showing the dataframe\n",
    "df"
   ]
  },
  {
   "cell_type": "markdown",
   "id": "d44bb261-c6d8-4a50-8b1a-57f84ce6acbc",
   "metadata": {},
   "source": [
    "# 2 Creating a dataFrame from a dictionary"
   ]
  },
  {
   "cell_type": "code",
   "execution_count": 39,
   "id": "7fc965d2-e9ee-471a-b51d-00404e3c8198",
   "metadata": {},
   "outputs": [],
   "source": [
    "# lists used for this example\n",
    "states = ['California', 'Texas', 'Florida', 'New York']\n",
    "population = [39613493, 29730311, 21944577, 19299981]"
   ]
  },
  {
   "cell_type": "code",
   "execution_count": 41,
   "id": "ad590914-4aad-437e-927f-b89bcf7a8396",
   "metadata": {},
   "outputs": [],
   "source": [
    "# Storing lists within a dictionary\n",
    "dict_states = {'States':states, 'Population':population}"
   ]
  },
  {
   "cell_type": "code",
   "execution_count": 43,
   "id": "ff2a12f4-cc77-42c6-82b6-413ffa23e698",
   "metadata": {},
   "outputs": [],
   "source": [
    "# Creating the dataframe\n",
    "df_population = pd.DataFrame(dict_states)"
   ]
  },
  {
   "cell_type": "code",
   "execution_count": 45,
   "id": "f7c4475d-fa0c-4d41-b519-e2cf3ee16e4a",
   "metadata": {},
   "outputs": [
    {
     "data": {
      "text/html": [
       "<div>\n",
       "<style scoped>\n",
       "    .dataframe tbody tr th:only-of-type {\n",
       "        vertical-align: middle;\n",
       "    }\n",
       "\n",
       "    .dataframe tbody tr th {\n",
       "        vertical-align: top;\n",
       "    }\n",
       "\n",
       "    .dataframe thead th {\n",
       "        text-align: right;\n",
       "    }\n",
       "</style>\n",
       "<table border=\"1\" class=\"dataframe\">\n",
       "  <thead>\n",
       "    <tr style=\"text-align: right;\">\n",
       "      <th></th>\n",
       "      <th>States</th>\n",
       "      <th>Population</th>\n",
       "    </tr>\n",
       "  </thead>\n",
       "  <tbody>\n",
       "    <tr>\n",
       "      <th>0</th>\n",
       "      <td>California</td>\n",
       "      <td>39613493</td>\n",
       "    </tr>\n",
       "    <tr>\n",
       "      <th>1</th>\n",
       "      <td>Texas</td>\n",
       "      <td>29730311</td>\n",
       "    </tr>\n",
       "    <tr>\n",
       "      <th>2</th>\n",
       "      <td>Florida</td>\n",
       "      <td>21944577</td>\n",
       "    </tr>\n",
       "    <tr>\n",
       "      <th>3</th>\n",
       "      <td>New York</td>\n",
       "      <td>19299981</td>\n",
       "    </tr>\n",
       "  </tbody>\n",
       "</table>\n",
       "</div>"
      ],
      "text/plain": [
       "       States  Population\n",
       "0  California    39613493\n",
       "1       Texas    29730311\n",
       "2     Florida    21944577\n",
       "3    New York    19299981"
      ]
     },
     "execution_count": 45,
     "metadata": {},
     "output_type": "execute_result"
    }
   ],
   "source": [
    "# showing the dataframe\n",
    "df_population"
   ]
  },
  {
   "cell_type": "markdown",
   "id": "aecc1bb5-1cbe-4d70-8981-fec47924c8d4",
   "metadata": {},
   "source": [
    "# 3 Creating a DataFrame from a csv file"
   ]
  },
  {
   "cell_type": "code",
   "execution_count": null,
   "id": "8ca8a08d-a660-463a-84fa-3599e31a6da9",
   "metadata": {},
   "outputs": [],
   "source": [
    "# reading the csv file\n",
    "pd.read_csv('StudentsPerformance.csv')"
   ]
  },
  {
   "cell_type": "code",
   "execution_count": null,
   "id": "85d09059-eabd-44cb-b42f-b70284209849",
   "metadata": {},
   "outputs": [],
   "source": [
    "# Show first 5 rows in a dataframe"
   ]
  }
 ],
 "metadata": {
  "kernelspec": {
   "display_name": "Python [conda env:base] *",
   "language": "python",
   "name": "conda-base-py"
  },
  "language_info": {
   "codemirror_mode": {
    "name": "ipython",
    "version": 3
   },
   "file_extension": ".py",
   "mimetype": "text/x-python",
   "name": "python",
   "nbconvert_exporter": "python",
   "pygments_lexer": "ipython3",
   "version": "3.12.7"
  }
 },
 "nbformat": 4,
 "nbformat_minor": 5
}
