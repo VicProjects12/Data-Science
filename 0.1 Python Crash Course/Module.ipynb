{
 "cells": [
  {
   "cell_type": "markdown",
   "id": "32f5a2ba-70c1-436c-a858-f899c8df8702",
   "metadata": {},
   "source": [
    "# Module"
   ]
  },
  {
   "cell_type": "code",
   "execution_count": null,
   "id": "662c98e3-e224-4d9b-a898-a54298cc83e9",
   "metadata": {},
   "outputs": [],
   "source": [
    "import"
   ]
  },
  {
   "cell_type": "markdown",
   "id": "1da8b96e-1ffa-449d-8cea-08f7690f3a64",
   "metadata": {},
   "source": [
    "# 9.1 OS Module"
   ]
  },
  {
   "cell_type": "code",
   "execution_count": 7,
   "id": "aa7948d7-56cd-45ca-988a-140e77cd3d24",
   "metadata": {},
   "outputs": [],
   "source": [
    "import os"
   ]
  },
  {
   "cell_type": "code",
   "execution_count": 9,
   "id": "b732f4d3-ffae-42bc-8fdb-51d6a6e01b63",
   "metadata": {},
   "outputs": [
    {
     "data": {
      "text/plain": [
       "'/Users/vic/Anaconda scripts/My Course'"
      ]
     },
     "execution_count": 9,
     "metadata": {},
     "output_type": "execute_result"
    }
   ],
   "source": [
    "os.getcwd()"
   ]
  },
  {
   "cell_type": "code",
   "execution_count": 11,
   "id": "5d055e0c-782f-4913-964f-e27ebff5b499",
   "metadata": {},
   "outputs": [
    {
     "data": {
      "text/plain": [
       "['Module.ipynb',\n",
       " 'Function.ipynb',\n",
       " 'List.ipynb',\n",
       " 'Dictionary.ipynb',\n",
       " 'Examples.ipynb',\n",
       " '.ipynb_checkpoints',\n",
       " 'If_Stmt.ipynb']"
      ]
     },
     "execution_count": 11,
     "metadata": {},
     "output_type": "execute_result"
    }
   ],
   "source": [
    "os.listdir()"
   ]
  },
  {
   "cell_type": "code",
   "execution_count": 20,
   "id": "140f671c-734f-4eae-bfe7-4d6b36c9c8d1",
   "metadata": {},
   "outputs": [],
   "source": [
    "os.makedirs(\"New Folder2\")"
   ]
  },
  {
   "cell_type": "code",
   "execution_count": 22,
   "id": "341a3e34-b510-4e44-8ace-ca6b11552bff",
   "metadata": {},
   "outputs": [
    {
     "data": {
      "text/plain": [
       "['Module.ipynb',\n",
       " 'New Folder',\n",
       " 'Function.ipynb',\n",
       " 'List.ipynb',\n",
       " 'Dictionary.ipynb',\n",
       " 'Examples.ipynb',\n",
       " '.ipynb_checkpoints',\n",
       " 'New Folder2',\n",
       " 'If_Stmt.ipynb']"
      ]
     },
     "execution_count": 22,
     "metadata": {},
     "output_type": "execute_result"
    }
   ],
   "source": [
    "os.listdir()"
   ]
  },
  {
   "cell_type": "code",
   "execution_count": null,
   "id": "39007b33-4801-43a4-be70-de4de4490847",
   "metadata": {},
   "outputs": [],
   "source": []
  }
 ],
 "metadata": {
  "kernelspec": {
   "display_name": "Python [conda env:base] *",
   "language": "python",
   "name": "conda-base-py"
  },
  "language_info": {
   "codemirror_mode": {
    "name": "ipython",
    "version": 3
   },
   "file_extension": ".py",
   "mimetype": "text/x-python",
   "name": "python",
   "nbconvert_exporter": "python",
   "pygments_lexer": "ipython3",
   "version": "3.12.7"
  }
 },
 "nbformat": 4,
 "nbformat_minor": 5
}
