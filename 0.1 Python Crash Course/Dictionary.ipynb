{
 "cells": [
  {
   "cell_type": "markdown",
   "id": "4bc048fc-d01a-400e-ad6b-4f4081a1785f",
   "metadata": {},
   "source": [
    "# 5 Dictionary"
   ]
  },
  {
   "cell_type": "code",
   "execution_count": null,
   "id": "f3139aa5-22cc-4577-9d1d-3dc7fc7d6596",
   "metadata": {},
   "outputs": [],
   "source": []
  },
  {
   "cell_type": "code",
   "execution_count": 3,
   "id": "83fbafcf-2221-4ae2-ac89-49cd3c06857d",
   "metadata": {},
   "outputs": [],
   "source": [
    "my_dict = {'key1':'value1', 'key2':'value2'}\n"
   ]
  },
  {
   "cell_type": "code",
   "execution_count": 5,
   "id": "43302b92-8f3e-44b5-86d2-69a0a7d404df",
   "metadata": {},
   "outputs": [],
   "source": [
    "my_data = {'name': 'Victor', 'age': 45}"
   ]
  },
  {
   "cell_type": "code",
   "execution_count": 7,
   "id": "d2a100c8-2ad9-4d15-b0af-e1c7f74e7ffe",
   "metadata": {},
   "outputs": [
    {
     "data": {
      "text/plain": [
       "{'name': 'Victor', 'age': 45}"
      ]
     },
     "execution_count": 7,
     "metadata": {},
     "output_type": "execute_result"
    }
   ],
   "source": [
    "my_data"
   ]
  },
  {
   "cell_type": "code",
   "execution_count": 9,
   "id": "3f17aacf-c5df-4cac-8f03-45827a943d48",
   "metadata": {},
   "outputs": [
    {
     "data": {
      "text/plain": [
       "dict_keys(['name', 'age'])"
      ]
     },
     "execution_count": 9,
     "metadata": {},
     "output_type": "execute_result"
    }
   ],
   "source": [
    "my_data.keys()"
   ]
  },
  {
   "cell_type": "code",
   "execution_count": 11,
   "id": "bc2885dd-7673-48aa-8911-ea691249710c",
   "metadata": {},
   "outputs": [
    {
     "data": {
      "text/plain": [
       "dict_values(['Victor', 45])"
      ]
     },
     "execution_count": 11,
     "metadata": {},
     "output_type": "execute_result"
    }
   ],
   "source": [
    "my_data.values()"
   ]
  },
  {
   "cell_type": "code",
   "execution_count": 13,
   "id": "4f11f603-c893-4063-b3a4-0843cb404c8d",
   "metadata": {},
   "outputs": [
    {
     "data": {
      "text/plain": [
       "dict_items([('name', 'Victor'), ('age', 45)])"
      ]
     },
     "execution_count": 13,
     "metadata": {},
     "output_type": "execute_result"
    }
   ],
   "source": [
    "my_data.items()"
   ]
  },
  {
   "cell_type": "code",
   "execution_count": 15,
   "id": "90d0e1cf-c790-49e3-8a0d-a7e4ffc621b6",
   "metadata": {},
   "outputs": [],
   "source": [
    "my_data['height'] = 5.7"
   ]
  },
  {
   "cell_type": "code",
   "execution_count": 17,
   "id": "609c45e4-d591-4c89-b5a3-6c5f89f2c41e",
   "metadata": {},
   "outputs": [
    {
     "data": {
      "text/plain": [
       "{'name': 'Victor', 'age': 45, 'height': 5.7}"
      ]
     },
     "execution_count": 17,
     "metadata": {},
     "output_type": "execute_result"
    }
   ],
   "source": [
    "my_data"
   ]
  },
  {
   "cell_type": "code",
   "execution_count": 21,
   "id": "7b47f822-3828-4dcd-bfad-ccadc668fe6b",
   "metadata": {},
   "outputs": [],
   "source": [
    "# to update\n",
    "my_data.update({'height': 6.4})"
   ]
  },
  {
   "cell_type": "code",
   "execution_count": 23,
   "id": "9f8d2b66-eac5-421d-b2ba-ae69b68fe663",
   "metadata": {},
   "outputs": [
    {
     "data": {
      "text/plain": [
       "{'name': 'Victor', 'age': 45, 'height': 6.4}"
      ]
     },
     "execution_count": 23,
     "metadata": {},
     "output_type": "execute_result"
    }
   ],
   "source": [
    "my_data"
   ]
  },
  {
   "cell_type": "markdown",
   "id": "815c32d3-19d5-4113-8047-c9c13084d516",
   "metadata": {},
   "source": [
    "# 5.0.1 Copy a dictionary"
   ]
  },
  {
   "cell_type": "code",
   "execution_count": 28,
   "id": "5a3683fd-658a-4a59-a0e4-d004ee56ed50",
   "metadata": {},
   "outputs": [],
   "source": [
    "new_dict = my_data.copy()"
   ]
  },
  {
   "cell_type": "code",
   "execution_count": 30,
   "id": "b757db4e-3029-498f-a2d6-eb690e061aa4",
   "metadata": {},
   "outputs": [
    {
     "data": {
      "text/plain": [
       "{'name': 'Victor', 'age': 45, 'height': 6.4}"
      ]
     },
     "execution_count": 30,
     "metadata": {},
     "output_type": "execute_result"
    }
   ],
   "source": [
    "new_dict"
   ]
  },
  {
   "cell_type": "markdown",
   "id": "fe35a268-7a6b-4754-af8f-5353a6287d19",
   "metadata": {},
   "source": [
    "# 5.0.2 Remove Element"
   ]
  },
  {
   "cell_type": "code",
   "execution_count": 36,
   "id": "9a07afe8-a46f-4d99-ac21-0545be1170f8",
   "metadata": {},
   "outputs": [
    {
     "data": {
      "text/plain": [
       "'Victor'"
      ]
     },
     "execution_count": 36,
     "metadata": {},
     "output_type": "execute_result"
    }
   ],
   "source": [
    "my_data.pop('name')"
   ]
  },
  {
   "cell_type": "code",
   "execution_count": 38,
   "id": "37d589a6-5b91-42b8-b5b8-5c449cde5537",
   "metadata": {},
   "outputs": [
    {
     "data": {
      "text/plain": [
       "{'age': 45, 'height': 6.4}"
      ]
     },
     "execution_count": 38,
     "metadata": {},
     "output_type": "execute_result"
    }
   ],
   "source": [
    "my_data"
   ]
  },
  {
   "cell_type": "code",
   "execution_count": 40,
   "id": "48fbe949-a3ca-4675-a1b0-4504668f2ea8",
   "metadata": {},
   "outputs": [],
   "source": [
    "del my_data['height']"
   ]
  },
  {
   "cell_type": "code",
   "execution_count": 42,
   "id": "ff5215e1-325c-4aba-b8b8-4e0e1558d8cb",
   "metadata": {},
   "outputs": [
    {
     "data": {
      "text/plain": [
       "{'age': 45}"
      ]
     },
     "execution_count": 42,
     "metadata": {},
     "output_type": "execute_result"
    }
   ],
   "source": [
    "my_data"
   ]
  },
  {
   "cell_type": "code",
   "execution_count": 44,
   "id": "41e03564-33b2-4940-b70a-86a1c84e379e",
   "metadata": {},
   "outputs": [],
   "source": [
    "my_data.clear()"
   ]
  },
  {
   "cell_type": "code",
   "execution_count": 46,
   "id": "c719b73e-27bd-4222-9355-e7c7e6147d20",
   "metadata": {},
   "outputs": [
    {
     "data": {
      "text/plain": [
       "{}"
      ]
     },
     "execution_count": 46,
     "metadata": {},
     "output_type": "execute_result"
    }
   ],
   "source": [
    "my_data"
   ]
  },
  {
   "cell_type": "code",
   "execution_count": null,
   "id": "404746eb-ad89-4286-8706-671317fbe4f3",
   "metadata": {},
   "outputs": [],
   "source": []
  }
 ],
 "metadata": {
  "kernelspec": {
   "display_name": "Python [conda env:base] *",
   "language": "python",
   "name": "conda-base-py"
  },
  "language_info": {
   "codemirror_mode": {
    "name": "ipython",
    "version": 3
   },
   "file_extension": ".py",
   "mimetype": "text/x-python",
   "name": "python",
   "nbconvert_exporter": "python",
   "pygments_lexer": "ipython3",
   "version": "3.12.7"
  }
 },
 "nbformat": 4,
 "nbformat_minor": 5
}
