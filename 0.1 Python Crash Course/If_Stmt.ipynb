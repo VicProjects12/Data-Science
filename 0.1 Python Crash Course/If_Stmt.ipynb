{
 "cells": [
  {
   "cell_type": "markdown",
   "id": "d44263d1-5159-4f09-9579-e8946e8203f3",
   "metadata": {},
   "source": [
    "# 6 If Statement"
   ]
  },
  {
   "cell_type": "markdown",
   "id": "a76dc93f-a6e5-43be-ad4f-8096b2ca594a",
   "metadata": {},
   "source": [
    "if <condition>:\n",
    "    <code>\n",
    "elif <condition>:\n",
    "    <code>\n",
    "\n",
    "...\n",
    "else:\n",
    "    <code>"
   ]
  },
  {
   "cell_type": "code",
   "execution_count": 5,
   "id": "13e619e9-a96a-48f4-9109-94c25fb6bef0",
   "metadata": {},
   "outputs": [
    {
     "name": "stdout",
     "output_type": "stream",
     "text": [
      "You are an adult!\n"
     ]
    }
   ],
   "source": [
    "age = 18\n",
    "\n",
    "if age>=18:\n",
    "    print(\"You are an adult!\")\n",
    "else:\n",
    "    print(\"You are a kid\")"
   ]
  },
  {
   "cell_type": "code",
   "execution_count": 7,
   "id": "7a547273-9397-434e-8987-08591e4ec395",
   "metadata": {},
   "outputs": [
    {
     "name": "stdout",
     "output_type": "stream",
     "text": [
      "You are a kid\n"
     ]
    }
   ],
   "source": [
    "age = 15\n",
    "\n",
    "if age>=18:\n",
    "    print(\"You are an adult!\")\n",
    "else:\n",
    "    print(\"You are a kid\")"
   ]
  },
  {
   "cell_type": "code",
   "execution_count": 9,
   "id": "c9bd64bf-1abb-4217-bd49-3bf19a8d9016",
   "metadata": {},
   "outputs": [
    {
     "name": "stdout",
     "output_type": "stream",
     "text": [
      "You are an adult!\n"
     ]
    }
   ],
   "source": [
    "age = 30\n",
    "\n",
    "if age>=18:\n",
    "    print(\"You are an adult!\")\n",
    "else:\n",
    "    print(\"You are a kid\")"
   ]
  },
  {
   "cell_type": "code",
   "execution_count": 11,
   "id": "13380fe4-a091-4e48-9001-56d409d36d3c",
   "metadata": {},
   "outputs": [
    {
     "name": "stdout",
     "output_type": "stream",
     "text": [
      "You are a kid\n"
     ]
    }
   ],
   "source": [
    "age = 10\n",
    "\n",
    "if age>=18:\n",
    "    print(\"You are an adult!\")\n",
    "elif age>=13:\n",
    "    print(\"You're a teenager\")\n",
    "else:\n",
    "    print(\"You are a kid\")"
   ]
  },
  {
   "cell_type": "code",
   "execution_count": 13,
   "id": "fb6038e7-82eb-451d-a173-46f13b5c6bdf",
   "metadata": {},
   "outputs": [
    {
     "name": "stdout",
     "output_type": "stream",
     "text": [
      "You're a teenager\n"
     ]
    }
   ],
   "source": [
    "age = 15\n",
    "\n",
    "if age>=18:\n",
    "    print(\"You are an adult!\")\n",
    "elif age>=13:\n",
    "    print(\"You're a teenager\")\n",
    "else:\n",
    "    print(\"You are a kid\")"
   ]
  },
  {
   "cell_type": "code",
   "execution_count": 15,
   "id": "e3eb685a-993a-4f08-9dff-185b0d2bc985",
   "metadata": {},
   "outputs": [
    {
     "name": "stdout",
     "output_type": "stream",
     "text": [
      "You are an adult!\n"
     ]
    }
   ],
   "source": [
    "age = 25\n",
    "\n",
    "if age>=18:\n",
    "    print(\"You are an adult!\")\n",
    "elif age>=13:\n",
    "    print(\"You're a teenager\")\n",
    "else:\n",
    "    print(\"You are a kid\")"
   ]
  },
  {
   "cell_type": "markdown",
   "id": "45b49124-efe8-4117-bb55-74b0b1100b29",
   "metadata": {},
   "source": [
    "# For Loop"
   ]
  },
  {
   "cell_type": "markdown",
   "id": "66ee864f-fb9f-4073-883f-1c873aac7c39",
   "metadata": {},
   "source": [
    "for <variable> in <iterable>:\n",
    "    <code>\n",
    "<iterable> = <"
   ]
  },
  {
   "cell_type": "code",
   "execution_count": 19,
   "id": "ba1882a6-083a-4d3d-b34c-c3a52734279c",
   "metadata": {},
   "outputs": [],
   "source": [
    "countries = ['Spain', 'United States', 'India', 'China', 'Brazil', 'England']"
   ]
  },
  {
   "cell_type": "code",
   "execution_count": 21,
   "id": "80dc2124-f491-447f-97c1-3bae980d642b",
   "metadata": {},
   "outputs": [
    {
     "data": {
      "text/plain": [
       "['Spain', 'United States', 'India', 'China', 'Brazil', 'England']"
      ]
     },
     "execution_count": 21,
     "metadata": {},
     "output_type": "execute_result"
    }
   ],
   "source": [
    "countries"
   ]
  },
  {
   "cell_type": "code",
   "execution_count": 23,
   "id": "18148b0c-09df-4700-9234-5d32e47733cf",
   "metadata": {},
   "outputs": [
    {
     "name": "stdout",
     "output_type": "stream",
     "text": [
      "Spain\n",
      "United States\n",
      "India\n",
      "China\n",
      "Brazil\n",
      "England\n"
     ]
    }
   ],
   "source": [
    "for country in countries:\n",
    "    print(country)"
   ]
  },
  {
   "cell_type": "code",
   "execution_count": 25,
   "id": "bc0f79e1-c4e6-4a92-b98a-ab9b74d88540",
   "metadata": {},
   "outputs": [
    {
     "name": "stdout",
     "output_type": "stream",
     "text": [
      "0\n",
      "Spain\n",
      "1\n",
      "United States\n",
      "2\n",
      "India\n",
      "3\n",
      "China\n",
      "4\n",
      "Brazil\n",
      "5\n",
      "England\n"
     ]
    }
   ],
   "source": [
    "# enumerate\n",
    "for i, country in enumerate(countries):\n",
    "    print(i)\n",
    "    print(country)"
   ]
  },
  {
   "cell_type": "code",
   "execution_count": 27,
   "id": "da66bd91-dd5d-4692-9728-c0ab5434214e",
   "metadata": {},
   "outputs": [
    {
     "data": {
      "text/plain": [
       "{'name': 'Victor', 'age': 45}"
      ]
     },
     "execution_count": 27,
     "metadata": {},
     "output_type": "execute_result"
    }
   ],
   "source": [
    "my_data = {'name': 'Victor', 'age': 45}\n",
    "my_data"
   ]
  },
  {
   "cell_type": "code",
   "execution_count": 29,
   "id": "45e4c4e0-5082-4644-aab4-a437459c2ee1",
   "metadata": {},
   "outputs": [
    {
     "name": "stdout",
     "output_type": "stream",
     "text": [
      "name\n",
      "Victor\n",
      "age\n",
      "45\n"
     ]
    }
   ],
   "source": [
    "for key, value in my_data.items():\n",
    "    print(key)\n",
    "    print(value)"
   ]
  },
  {
   "cell_type": "code",
   "execution_count": null,
   "id": "3746200b-7ab9-4667-b699-1f2326a159a2",
   "metadata": {},
   "outputs": [],
   "source": []
  }
 ],
 "metadata": {
  "kernelspec": {
   "display_name": "Python [conda env:base] *",
   "language": "python",
   "name": "conda-base-py"
  },
  "language_info": {
   "codemirror_mode": {
    "name": "ipython",
    "version": 3
   },
   "file_extension": ".py",
   "mimetype": "text/x-python",
   "name": "python",
   "nbconvert_exporter": "python",
   "pygments_lexer": "ipython3",
   "version": "3.12.7"
  }
 },
 "nbformat": 4,
 "nbformat_minor": 5
}
