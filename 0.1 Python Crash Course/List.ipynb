{
 "cells": [
  {
   "cell_type": "markdown",
   "id": "fad7a711-d24c-4338-86c4-17afe61d8245",
   "metadata": {},
   "source": [
    "# 4 List"
   ]
  },
  {
   "cell_type": "code",
   "execution_count": 19,
   "id": "d5eb7a1e-d20a-4b0d-a890-8969431fe4b9",
   "metadata": {},
   "outputs": [
    {
     "data": {
      "text/html": [
       "\n",
       "<style>\n",
       "div.prompt {display: flex !important;}\n",
       "div.input_prompt {display: block !important;}\n",
       "div.output_prompt {display: block !important;}\n",
       "</style>\n"
      ],
      "text/plain": [
       "<IPython.core.display.HTML object>"
      ]
     },
     "metadata": {},
     "output_type": "display_data"
    },
    {
     "name": "stdout",
     "output_type": "stream",
     "text": [
      "This should have an input and output prompt\n"
     ]
    }
   ],
   "source": [
    "from IPython.display import display, HTML\n",
    "\n",
    "# Reset the display settings to show input/output prompts\n",
    "display(HTML(\"\"\"\n",
    "<style>\n",
    "div.prompt {display: flex !important;}\n",
    "div.input_prompt {display: block !important;}\n",
    "div.output_prompt {display: block !important;}\n",
    "</style>\n",
    "\"\"\"))\n",
    "\n",
    "# Test if it works\n",
    "print(\"This should have an input and output prompt\")"
   ]
  },
  {
   "cell_type": "code",
   "execution_count": 20,
   "id": "646c9bf2-7e6a-4dc5-9337-e1e866426d99",
   "metadata": {},
   "outputs": [],
   "source": [
    "countries = ['United States', 'India', 'China', 'Brazil']"
   ]
  },
  {
   "cell_type": "code",
   "execution_count": 21,
   "id": "3a51d854-078c-4036-b7c1-3573a05d3bb6",
   "metadata": {},
   "outputs": [
    {
     "data": {
      "text/plain": [
       "['United States', 'India', 'China', 'Brazil']"
      ]
     },
     "execution_count": 21,
     "metadata": {},
     "output_type": "execute_result"
    }
   ],
   "source": [
    "countries"
   ]
  },
  {
   "cell_type": "code",
   "execution_count": 22,
   "id": "ca0dbbc8-88c3-4aa5-97ef-ea1143c6a12c",
   "metadata": {},
   "outputs": [
    {
     "data": {
      "text/plain": [
       "'United States'"
      ]
     },
     "execution_count": 22,
     "metadata": {},
     "output_type": "execute_result"
    }
   ],
   "source": [
    "countries[0]"
   ]
  },
  {
   "cell_type": "code",
   "execution_count": 23,
   "id": "6f58b2ed-9a82-4ed5-b995-ed431061c52c",
   "metadata": {},
   "outputs": [
    {
     "data": {
      "text/plain": [
       "'India'"
      ]
     },
     "execution_count": 23,
     "metadata": {},
     "output_type": "execute_result"
    }
   ],
   "source": [
    "countries[1]"
   ]
  },
  {
   "cell_type": "code",
   "execution_count": 24,
   "id": "3ed0b8eb-3eb9-496f-bbb0-d7b334b3b03c",
   "metadata": {},
   "outputs": [
    {
     "name": "stdout",
     "output_type": "stream",
     "text": [
      "United States\n",
      "India\n",
      "China\n",
      "Brazil\n"
     ]
    }
   ],
   "source": [
    "print(countries[0])\n",
    "print(countries[1])\n",
    "print(countries[2])\n",
    "print(countries[3])"
   ]
  },
  {
   "cell_type": "code",
   "execution_count": 25,
   "id": "d771a462-2981-422b-a116-7dccab10b34b",
   "metadata": {},
   "outputs": [
    {
     "data": {
      "text/plain": [
       "'Brazil'"
      ]
     },
     "execution_count": 25,
     "metadata": {},
     "output_type": "execute_result"
    }
   ],
   "source": [
    "countries[-1]"
   ]
  },
  {
   "cell_type": "code",
   "execution_count": 26,
   "id": "26fa8059-72f9-4d92-9cc9-00b6a4a8575f",
   "metadata": {},
   "outputs": [
    {
     "data": {
      "text/plain": [
       "'United States'"
      ]
     },
     "execution_count": 26,
     "metadata": {},
     "output_type": "execute_result"
    }
   ],
   "source": [
    "countries[-4]"
   ]
  },
  {
   "cell_type": "markdown",
   "id": "d684ee05-fc2c-4676-8c5d-91ca630d9341",
   "metadata": {},
   "source": [
    "## Slicing in Python\n",
    "\n",
    "Slicing is a technique to extract a subset of elements from a sequence (like lists, strings, or arrays) using the syntax `sequence[start:stop:step]`. It creates a new object containing selected items based on index positions.\n",
    "\n",
    "Examples:\n",
    "- `my_list[2:5]` - items from index 2 to 4\n",
    "- `text[:3]` - first three characters\n",
    "- `array[::2]` - every second element\n",
    "- `data[-3:]` - last three elements\n",
    "\n",
    "Useful Python packages for advanced slicing operations include NumPy for array slicing, pandas for DataFrame slicing, and itertools for more complex sequence operations."
   ]
  },
  {
   "cell_type": "code",
   "execution_count": 30,
   "id": "f3d87e2a-a9bd-46cd-b863-be45aae741c4",
   "metadata": {},
   "outputs": [],
   "source": [
    "# slicing\n",
    "#list_name[start:stop]"
   ]
  },
  {
   "cell_type": "code",
   "execution_count": 32,
   "id": "405a43ac-69d1-4a5d-91bb-c04056f8e49a",
   "metadata": {},
   "outputs": [
    {
     "data": {
      "text/plain": [
       "['United States', 'India', 'China']"
      ]
     },
     "execution_count": 32,
     "metadata": {},
     "output_type": "execute_result"
    }
   ],
   "source": [
    "countries[0:3]"
   ]
  },
  {
   "cell_type": "code",
   "execution_count": 34,
   "id": "4b6f6ffa-6f16-4fa3-b26e-3e9133c14340",
   "metadata": {},
   "outputs": [
    {
     "data": {
      "text/plain": [
       "['United States']"
      ]
     },
     "execution_count": 34,
     "metadata": {},
     "output_type": "execute_result"
    }
   ],
   "source": [
    "countries[0:1]"
   ]
  },
  {
   "cell_type": "code",
   "execution_count": 36,
   "id": "6994a535-9d60-4586-81df-06e8dc751633",
   "metadata": {},
   "outputs": [
    {
     "data": {
      "text/plain": [
       "['India', 'China', 'Brazil']"
      ]
     },
     "execution_count": 36,
     "metadata": {},
     "output_type": "execute_result"
    }
   ],
   "source": [
    "countries[1:4]"
   ]
  },
  {
   "cell_type": "code",
   "execution_count": 38,
   "id": "f7b7880d-5bb0-48ae-b152-d912e73bd702",
   "metadata": {},
   "outputs": [
    {
     "data": {
      "text/plain": [
       "['India', 'China', 'Brazil']"
      ]
     },
     "execution_count": 38,
     "metadata": {},
     "output_type": "execute_result"
    }
   ],
   "source": [
    "countries[1:]"
   ]
  },
  {
   "cell_type": "code",
   "execution_count": 40,
   "id": "fc944b0f-7431-4c06-9c2f-38246109446d",
   "metadata": {},
   "outputs": [
    {
     "data": {
      "text/plain": [
       "['United States', 'India']"
      ]
     },
     "execution_count": 40,
     "metadata": {},
     "output_type": "execute_result"
    }
   ],
   "source": [
    "countries[:2]"
   ]
  },
  {
   "cell_type": "markdown",
   "id": "78bdae12-1417-40fd-b3b4-5ad12238ee18",
   "metadata": {},
   "source": [
    "# 4.0.1 Adding elements to a list"
   ]
  },
  {
   "cell_type": "code",
   "execution_count": 42,
   "id": "411df485-94a4-4242-9927-c347ade84019",
   "metadata": {},
   "outputs": [
    {
     "data": {
      "text/plain": [
       "['United States', 'India', 'China', 'Brazil']"
      ]
     },
     "execution_count": 42,
     "metadata": {},
     "output_type": "execute_result"
    }
   ],
   "source": [
    "countries"
   ]
  },
  {
   "cell_type": "code",
   "execution_count": 44,
   "id": "a7c0a5f9-2928-4155-9fcb-8e9a105ed779",
   "metadata": {},
   "outputs": [],
   "source": [
    "countries.append('England') # Adding an element to a list"
   ]
  },
  {
   "cell_type": "code",
   "execution_count": 46,
   "id": "47b80a3a-3aec-46d1-8685-a843d749eb0f",
   "metadata": {},
   "outputs": [
    {
     "data": {
      "text/plain": [
       "['United States', 'India', 'China', 'Brazil', 'England']"
      ]
     },
     "execution_count": 46,
     "metadata": {},
     "output_type": "execute_result"
    }
   ],
   "source": [
    "countries"
   ]
  },
  {
   "cell_type": "code",
   "execution_count": 48,
   "id": "423cc46f-9d6e-4c8d-8a3b-9ac4b9280301",
   "metadata": {},
   "outputs": [],
   "source": [
    "countries.insert(0, 'Spain') # This specify position to add elements"
   ]
  },
  {
   "cell_type": "code",
   "execution_count": 50,
   "id": "c1e95559-85b7-4b5e-a9c8-60234b8d83ab",
   "metadata": {},
   "outputs": [
    {
     "data": {
      "text/plain": [
       "['Spain', 'United States', 'India', 'China', 'Brazil', 'England']"
      ]
     },
     "execution_count": 50,
     "metadata": {},
     "output_type": "execute_result"
    }
   ],
   "source": [
    "countries"
   ]
  },
  {
   "cell_type": "code",
   "execution_count": 52,
   "id": "1b5b165d-e5b1-4bcc-ae70-5b306fcb03ba",
   "metadata": {},
   "outputs": [],
   "source": [
    "countries_2 = ['Mexico', 'Germany', 'Austria']"
   ]
  },
  {
   "cell_type": "code",
   "execution_count": 54,
   "id": "011ff22a-01e7-4033-898f-73819cea6d56",
   "metadata": {},
   "outputs": [
    {
     "data": {
      "text/plain": [
       "['Spain',\n",
       " 'United States',\n",
       " 'India',\n",
       " 'China',\n",
       " 'Brazil',\n",
       " 'England',\n",
       " 'Mexico',\n",
       " 'Germany',\n",
       " 'Austria']"
      ]
     },
     "execution_count": 54,
     "metadata": {},
     "output_type": "execute_result"
    }
   ],
   "source": [
    "countries + countries_2"
   ]
  },
  {
   "cell_type": "code",
   "execution_count": 56,
   "id": "c75734ec-a70d-44a9-a03a-02819fd03568",
   "metadata": {},
   "outputs": [],
   "source": [
    "nested_list = [countries, countries_2]"
   ]
  },
  {
   "cell_type": "code",
   "execution_count": 58,
   "id": "5f1149a8-0795-44e7-a196-90b64dd03020",
   "metadata": {},
   "outputs": [
    {
     "data": {
      "text/plain": [
       "[['Spain', 'United States', 'India', 'China', 'Brazil', 'England'],\n",
       " ['Mexico', 'Germany', 'Austria']]"
      ]
     },
     "execution_count": 58,
     "metadata": {},
     "output_type": "execute_result"
    }
   ],
   "source": [
    "nested_list"
   ]
  },
  {
   "cell_type": "markdown",
   "id": "f18a159d-5d78-4fc8-b3f0-af61b1887ed7",
   "metadata": {},
   "source": [
    "# 4.0.2 Removing an element"
   ]
  },
  {
   "cell_type": "code",
   "execution_count": 61,
   "id": "492697ac-7eec-4063-8e28-2f13b08c6ca4",
   "metadata": {},
   "outputs": [],
   "source": [
    "countries = ['United States', 'India', 'China', 'Brazil']"
   ]
  },
  {
   "cell_type": "code",
   "execution_count": 63,
   "id": "700b4208-6edb-4931-a269-750218b805c1",
   "metadata": {},
   "outputs": [],
   "source": [
    "countries.remove('United States')"
   ]
  },
  {
   "cell_type": "code",
   "execution_count": 65,
   "id": "7e5b70d6-75c1-44de-843f-c215d953d714",
   "metadata": {},
   "outputs": [
    {
     "data": {
      "text/plain": [
       "['India', 'China', 'Brazil']"
      ]
     },
     "execution_count": 65,
     "metadata": {},
     "output_type": "execute_result"
    }
   ],
   "source": [
    "countries"
   ]
  },
  {
   "cell_type": "code",
   "execution_count": 67,
   "id": "6bd06538-380c-41c4-a8b5-90b3d72f22be",
   "metadata": {},
   "outputs": [
    {
     "data": {
      "text/plain": [
       "['India', 'China', 'Brazil']"
      ]
     },
     "execution_count": 67,
     "metadata": {},
     "output_type": "execute_result"
    }
   ],
   "source": [
    "countries"
   ]
  },
  {
   "cell_type": "code",
   "execution_count": 8,
   "id": "4dbcbde8-8ab9-4e03-aa5b-b0520b341edb",
   "metadata": {},
   "outputs": [],
   "source": [
    "countries = ['Spain', 'United States', 'India', 'China', 'Brazil', 'England']"
   ]
  },
  {
   "cell_type": "code",
   "execution_count": 12,
   "id": "9c9b12aa-15bd-4c1f-97ad-6e7ff49fdc58",
   "metadata": {},
   "outputs": [
    {
     "data": {
      "text/plain": [
       "'England'"
      ]
     },
     "execution_count": 12,
     "metadata": {},
     "output_type": "execute_result"
    }
   ],
   "source": [
    "countries.pop(-1)"
   ]
  },
  {
   "cell_type": "code",
   "execution_count": 14,
   "id": "0eb4d0e8-cd98-4ef8-a6ce-01e7c0a71e28",
   "metadata": {},
   "outputs": [
    {
     "data": {
      "text/plain": [
       "['Spain', 'United States', 'India', 'China', 'Brazil']"
      ]
     },
     "execution_count": 14,
     "metadata": {},
     "output_type": "execute_result"
    }
   ],
   "source": [
    "countries"
   ]
  },
  {
   "cell_type": "code",
   "execution_count": 16,
   "id": "0feec88e-d4ee-406e-87bb-df516cba2941",
   "metadata": {},
   "outputs": [],
   "source": [
    "del countries[0]"
   ]
  },
  {
   "cell_type": "code",
   "execution_count": 18,
   "id": "b62dbe81-46f2-4ed6-8847-a64b79a607a8",
   "metadata": {},
   "outputs": [
    {
     "data": {
      "text/plain": [
       "['United States', 'India', 'China', 'Brazil']"
      ]
     },
     "execution_count": 18,
     "metadata": {},
     "output_type": "execute_result"
    }
   ],
   "source": [
    "countries"
   ]
  },
  {
   "cell_type": "markdown",
   "id": "1c47f02f-6a10-425a-992f-c0bb4099f4fb",
   "metadata": {},
   "source": [
    "# 4.0.3 Sorting a List"
   ]
  },
  {
   "cell_type": "code",
   "execution_count": 21,
   "id": "5776b476-7c62-4e93-833f-734cd80569c5",
   "metadata": {},
   "outputs": [],
   "source": [
    "numbers = [4, 3, 10, 7, 1, 2]"
   ]
  },
  {
   "cell_type": "code",
   "execution_count": 23,
   "id": "64872ced-60dd-4a34-b3b0-1baa05db5c05",
   "metadata": {},
   "outputs": [
    {
     "data": {
      "text/plain": [
       "[1, 2, 3, 4, 7, 10]"
      ]
     },
     "execution_count": 23,
     "metadata": {},
     "output_type": "execute_result"
    }
   ],
   "source": [
    "numbers.sort()\n",
    "numbers"
   ]
  },
  {
   "cell_type": "code",
   "execution_count": 25,
   "id": "0fbf96d1-d35e-4272-91ca-3d19237a33bd",
   "metadata": {},
   "outputs": [
    {
     "data": {
      "text/plain": [
       "[10, 7, 4, 3, 2, 1]"
      ]
     },
     "execution_count": 25,
     "metadata": {},
     "output_type": "execute_result"
    }
   ],
   "source": [
    "numbers = [4, 3, 10, 7, 1, 2]\n",
    "numbers.sort(reverse=True)\n",
    "numbers"
   ]
  },
  {
   "cell_type": "code",
   "execution_count": 27,
   "id": "dc4d6a3e-3942-4f35-80fd-cdb9de30b9ab",
   "metadata": {},
   "outputs": [
    {
     "data": {
      "text/plain": [
       "[1, 2, 3, 4, 7, 10]"
      ]
     },
     "execution_count": 27,
     "metadata": {},
     "output_type": "execute_result"
    }
   ],
   "source": [
    "numbers = [4, 3, 10, 7, 1, 2]\n",
    "numbers.sort(reverse=False)\n",
    "numbers"
   ]
  },
  {
   "cell_type": "markdown",
   "id": "79243262-ddc9-423b-8394-1b7943b375b6",
   "metadata": {},
   "source": [
    "# 4.0.4 Update an element"
   ]
  },
  {
   "cell_type": "code",
   "execution_count": 30,
   "id": "44a699fc-3c7b-420a-b76e-b59ef2d89aef",
   "metadata": {},
   "outputs": [
    {
     "data": {
      "text/plain": [
       "[20, 2, 3, 4, 7, 10]"
      ]
     },
     "execution_count": 30,
     "metadata": {},
     "output_type": "execute_result"
    }
   ],
   "source": [
    "numbers[0] = 20\n",
    "numbers"
   ]
  },
  {
   "cell_type": "markdown",
   "id": "c387aefd-4371-472b-adb8-dd788c7d3afd",
   "metadata": {},
   "source": [
    "# 4.0.5 Copying a list"
   ]
  },
  {
   "cell_type": "code",
   "execution_count": 36,
   "id": "9172ca8a-91b3-49aa-97bf-95f887b7768b",
   "metadata": {},
   "outputs": [],
   "source": [
    "countries = ['Spain', 'United States', 'India', 'China', 'Brazil', 'England']"
   ]
  },
  {
   "cell_type": "code",
   "execution_count": 38,
   "id": "b47cebee-6beb-4b72-8905-2cea84f7353a",
   "metadata": {},
   "outputs": [
    {
     "data": {
      "text/plain": [
       "['Spain', 'United States', 'India', 'China', 'Brazil', 'England']"
      ]
     },
     "execution_count": 38,
     "metadata": {},
     "output_type": "execute_result"
    }
   ],
   "source": [
    "countries[:]"
   ]
  },
  {
   "cell_type": "code",
   "execution_count": 40,
   "id": "798423af-d7c5-4cc2-991e-1fd4e7d3b9d0",
   "metadata": {},
   "outputs": [
    {
     "data": {
      "text/plain": [
       "['Spain', 'United States', 'India', 'China', 'Brazil', 'England']"
      ]
     },
     "execution_count": 40,
     "metadata": {},
     "output_type": "execute_result"
    }
   ],
   "source": [
    "new_list = countries[:]\n",
    "new_list"
   ]
  },
  {
   "cell_type": "code",
   "execution_count": 42,
   "id": "f2e67a96-31cd-403b-84c1-3a0d538dacd6",
   "metadata": {},
   "outputs": [
    {
     "data": {
      "text/plain": [
       "['Spain', 'United States', 'India', 'China', 'Brazil', 'England']"
      ]
     },
     "execution_count": 42,
     "metadata": {},
     "output_type": "execute_result"
    }
   ],
   "source": [
    "countries.copy()"
   ]
  },
  {
   "cell_type": "code",
   "execution_count": 48,
   "id": "f8b2138c-1e1f-4577-be76-28b91b2a44eb",
   "metadata": {},
   "outputs": [],
   "source": [
    "new_list_2 = countries.copy()"
   ]
  },
  {
   "cell_type": "code",
   "execution_count": 50,
   "id": "1f7411f1-3d80-4cb1-be2b-0b9d9753b802",
   "metadata": {},
   "outputs": [
    {
     "data": {
      "text/plain": [
       "['Spain', 'United States', 'India', 'China', 'Brazil', 'England']"
      ]
     },
     "execution_count": 50,
     "metadata": {},
     "output_type": "execute_result"
    }
   ],
   "source": [
    "new_list_2"
   ]
  },
  {
   "cell_type": "code",
   "execution_count": null,
   "id": "8158ad7b-db4a-4538-b27a-866003f93f1f",
   "metadata": {},
   "outputs": [],
   "source": []
  }
 ],
 "metadata": {
  "kernelspec": {
   "display_name": "Python [conda env:base] *",
   "language": "python",
   "name": "conda-base-py"
  },
  "language_info": {
   "codemirror_mode": {
    "name": "ipython",
    "version": 3
   },
   "file_extension": ".py",
   "mimetype": "text/x-python",
   "name": "python",
   "nbconvert_exporter": "python",
   "pygments_lexer": "ipython3",
   "version": "3.12.7"
  }
 },
 "nbformat": 4,
 "nbformat_minor": 5
}
